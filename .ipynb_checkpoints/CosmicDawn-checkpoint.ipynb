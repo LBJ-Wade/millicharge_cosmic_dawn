{
 "cells": [
  {
   "cell_type": "markdown",
   "metadata": {},
   "source": [
    "# Millicharged DM and 'Cosmic Dawn'"
   ]
  },
  {
   "cell_type": "code",
   "execution_count": 1,
   "metadata": {},
   "outputs": [],
   "source": [
    "import matplotlib.pyplot as pl\n",
    "import numpy as np\n",
    "import matplotlib as mpl\n",
    "\n",
    "font = {'family' : 'sans-serif',\n",
    "        'size'   : 12}\n",
    "\n",
    "mpl.rcParams['xtick.major.size'] = 5\n",
    "mpl.rcParams['xtick.major.width'] = 1\n",
    "mpl.rcParams['xtick.minor.size'] = 3\n",
    "mpl.rcParams['xtick.minor.width'] = 1\n",
    "mpl.rcParams['ytick.major.size'] = 5\n",
    "mpl.rcParams['ytick.major.width'] = 1\n",
    "mpl.rcParams['ytick.minor.size'] = 3\n",
    "mpl.rcParams['ytick.minor.width'] = 1\n",
    "mpl.rc('font', **font)"
   ]
  },
  {
   "cell_type": "markdown",
   "metadata": {},
   "source": [
    "Let's consider constraints on the DM-electron cross section from DM-electron scattering searches. Some recent limits are from [arXiv:1703.00910](https://arxiv.org/abs/1703.00910).\n",
    "\n",
    "From Eq. 15 of [arXiv:1108.5373](https://arxiv.org/abs/1108.5383), we see that the DM-electron scattering cross section, in the case of millicharged DM can be written\n",
    "\n",
    "$$\\overline{\\sigma}_{\\chi e} = \\frac{16 \\pi \\mu_{\\chi e}^2 \\alpha^2 \\epsilon^2}{(\\alpha m_e)^4}\\,.$$\n",
    "\n",
    "In this case, the scattering form factor is given by:\n",
    "\n",
    "$$F_\\mathrm{DM}(q^2) = \\left(\\frac{\\alpha m_e}{q}\\right)^2\\,.$$"
   ]
  },
  {
   "cell_type": "code",
   "execution_count": 5,
   "metadata": {},
   "outputs": [],
   "source": [
    "alpha = 1.0/137.0\n",
    "m_e = 511e-6 #GeV\n",
    "\n",
    "def calc_eps(m_chi, sigma_e):\n",
    "    #All masses in GeV\n",
    "    #1cm = 5.06e13 GeV^-1\n",
    "    mu = (m_chi*m_e)/(m_chi + m_e)\n",
    "    eps_sq = sigma_e*(5.06e13)**2*(alpha*m_e)**4/(16*np.pi*mu**2*alpha**2)\n",
    "    return np.sqrt(eps_sq)"
   ]
  },
  {
   "cell_type": "code",
   "execution_count": 6,
   "metadata": {},
   "outputs": [],
   "source": [
    "#Let's load in the constraint on DM-e cross section from arXiv:1703.00910\n",
    "m_list, sig_list = np.loadtxt(\"DDconstraint.txt\",unpack=True)"
   ]
  },
  {
   "cell_type": "code",
   "execution_count": 8,
   "metadata": {},
   "outputs": [
    {
     "data": {
      "image/png": "[encoded data removed]",
      "text/plain": [
       "<matplotlib.figure.Figure at 0x110fc8630>"
      ]
     },
     "metadata": {},
     "output_type": "display_data"
    }
   ],
   "source": [
    "#Now we plot as a constraint on the millicharge\n",
    "pl.figure(figsize=(7,5))\n",
    "pl.loglog(m_list*1e3, calc_eps(m_list, sig_list))\n",
    "pl.xlabel(r'$m_\\chi$ [MeV]')\n",
    "pl.ylabel(r'$\\epsilon$')\n",
    "pl.show()"
   ]
  },
  {
   "cell_type": "markdown",
   "metadata": {},
   "source": [
    "Comparing with the allowed regions for the mass and millicharge in the bottom left panel of Fig. 1 in [arXiv:1803.02804](https://arxiv.org/abs/1803.02804) (for $f = 0.01$), we see that DM-electron scattering should rule out all millicharges down to $\\epsilon \\sim 10^{-10}$ (or in fact $\\epsilon \\sim 10^{-6}$ once you take the factor of $f = 0.01$ into account). \n",
    "\n",
    "However, as pointed out in [arXiv:1011.2907](https://arxiv.org/abs/1011.2907), DM with millicharges in the range\n",
    "\n",
    "$$5.4 \\times 10^{-13} (m_\\chi /\\mathrm{GeV}) <\\epsilon < 3.4 \\times 10^{-4} \\sqrt{m_\\chi /\\mathrm{GeV}}$$\n",
    "\n",
    "should not be present in the disk of our galaxy. Within this range, millicharged DM cannot penetrate the large-scale magnetic fields of the MW disk and (if present) will be efficiently expelled by shockwaves from SN explosions (see Sec. VI B of [arXiv:1011.2907](https://arxiv.org/abs/1011.2907)). \n",
    "\n",
    "Thus, any millicharged DM in this range would not be present near the Earth and would therefore not be subject to direct detection constraints. If the millicharged DM is only around 1% of the total DM density, there would also be no tension with the fact that we do observe some local DM density at the Earth's galactocentric radius (i.e. only the 1% millicharged DM is expelled from the Galaxy, the other 99% is fine). "
   ]
  },
  {
   "cell_type": "markdown",
   "metadata": {},
   "source": [
    "Finally, the upper bound in the above range $\\epsilon < 3.4 \\times 10^{-4} \\sqrt{m_\\chi /\\mathrm{GeV}}$, comes from requiring that millicharged DM is accelerated and ejected from the disk by SN explosions faster than it can cool. If we set $m_\\chi \\sim 50 \\,\\,\\mathrm{MeV}$, we see that above $\\epsilon \\sim 8 \\times 10^{−5}$, the SN acceleration is no longer efficient at expelling DM (i.e. DM could cool quickly enough that it remains in the disk). \n",
    "\n",
    "Looking again at the bottom left panel of Fig. 1 in [arXiv:1803.02804](https://arxiv.org/abs/1803.02804), we see that there is a small range where $\\epsilon > 8 \\times 10^{−5}$ is consistent with EDGES result. **For this small sliver of parameter space, direct detection constraints *may* apply and can probably rule out a DM interpretation. However, there is still a substantial area which is unaffected by direct detection constraints.**"
   ]
  },
  {
   "cell_type": "code",
   "execution_count": null,
   "metadata": {},
   "outputs": [],
   "source": []
  }
 ],
 "metadata": {
  "kernelspec": {
   "display_name": "Python 2",
   "language": "python",
   "name": "python2"
  },
  "language_info": {
   "codemirror_mode": {
    "name": "ipython",
    "version": 3
   },
   "file_extension": ".py",
   "mimetype": "text/x-python",
   "name": "python",
   "nbconvert_exporter": "python",
   "pygments_lexer": "ipython3",
   "version": "3.6.4"
  }
 },
 "nbformat": 4,
 "nbformat_minor": 2
}
